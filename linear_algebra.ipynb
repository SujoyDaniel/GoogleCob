{
  "nbformat": 4,
  "nbformat_minor": 0,
  "metadata": {
    "colab": {
      "provenance": [],
      "authorship_tag": "ABX9TyNkTFAGJgVz2KZu9eFQ64NX",
      "include_colab_link": true
    },
    "kernelspec": {
      "name": "python3",
      "display_name": "Python 3"
    },
    "language_info": {
      "name": "python"
    }
  },
  "cells": [
    {
      "cell_type": "markdown",
      "metadata": {
        "id": "view-in-github",
        "colab_type": "text"
      },
      "source": [
        "<a href=\"https://colab.research.google.com/github/SujoyDaniel/GoogleCob/blob/main/linear_algebra.ipynb\" target=\"_parent\"><img src=\"https://colab.research.google.com/assets/colab-badge.svg\" alt=\"Open In Colab\"/></a>"
      ]
    },
    {
      "cell_type": "code",
      "execution_count": 1,
      "metadata": {
        "colab": {
          "base_uri": "https://localhost:8080/"
        },
        "id": "824ATv0PONEh",
        "outputId": "af238229-c995-43b7-b261-6ac30395c9f2"
      },
      "outputs": [
        {
          "output_type": "stream",
          "name": "stdout",
          "text": [
            "a = [2, 3, 7, 2]\n"
          ]
        }
      ],
      "source": [
        "a=[2,3,7,2]\n",
        "print(\"a =\",a)"
      ]
    },
    {
      "cell_type": "code",
      "source": [
        "A=[[1,3,7,2],[5,8,-9,0],[6,-7,11,12]]\n",
        "print(\"A =\",A)"
      ],
      "metadata": {
        "colab": {
          "base_uri": "https://localhost:8080/"
        },
        "id": "fkdLVed2OZv5",
        "outputId": "c48eed91-7c08-4592-80c1-583f7f88072d"
      },
      "execution_count": 2,
      "outputs": [
        {
          "output_type": "stream",
          "name": "stdout",
          "text": [
            "A = [[1, 3, 7, 2], [5, 8, -9, 0], [6, -7, 11, 12]]\n"
          ]
        }
      ]
    },
    {
      "cell_type": "code",
      "source": [
        "import numpy as np\n",
        "\n",
        "a=np.array([[1],[3],[7],[2]])\n",
        "print(\"a =\",a)\n",
        "\n",
        "A = np.array([[1, 3, 7, 2], [5, 8, -9, 0],[6, -7, 11, 12]])\n",
        "print(\"A =\", A)"
      ],
      "metadata": {
        "colab": {
          "base_uri": "https://localhost:8080/"
        },
        "id": "EbFlB3uTOeY7",
        "outputId": "1a68f7c3-e6f7-4c61-80a8-2b8db8e93e75"
      },
      "execution_count": 3,
      "outputs": [
        {
          "output_type": "stream",
          "name": "stdout",
          "text": [
            "a = [[1]\n",
            " [3]\n",
            " [7]\n",
            " [2]]\n",
            "A = [[ 1  3  7  2]\n",
            " [ 5  8 -9  0]\n",
            " [ 6 -7 11 12]]\n"
          ]
        }
      ]
    },
    {
      "cell_type": "code",
      "source": [
        "import numpy as np\n",
        "A = np.matrix([[0, 1], [-2, -3]])\n",
        "B = np.matrix([[1, 0], [3, -2]])\n",
        "C = A + B\n",
        "print(\"A+B =\", C)\n",
        "C = A - B\n",
        "print(\"A-B =\", C)\n",
        "C = A * B\n",
        "print(\"A*B =\", C)"
      ],
      "metadata": {
        "colab": {
          "base_uri": "https://localhost:8080/"
        },
        "id": "Sozi6-wbOhZn",
        "outputId": "dbb6e076-e162-4f7c-e5f0-632ea87b4a6f"
      },
      "execution_count": 4,
      "outputs": [
        {
          "output_type": "stream",
          "name": "stdout",
          "text": [
            "A+B = [[ 1  1]\n",
            " [ 1 -5]]\n",
            "A-B = [[-1  1]\n",
            " [-5 -1]]\n",
            "A*B = [[  3  -2]\n",
            " [-11   6]]\n"
          ]
        }
      ]
    },
    {
      "cell_type": "code",
      "source": [
        "import numpy as np\n",
        "A = np.array([[0, 1], [-2, -3]])\n",
        "B = np.array([[1, 0], [3, -2]])\n",
        "C = A + B\n",
        "\n",
        "print(\"A+B =\", C)\n",
        "C = A - B\n",
        "\n",
        "print(\"A-B =\", C)\n",
        "C = A * B\n",
        "\n",
        "print(\"A*B =\", C) # Not Working!, only elementwise Multiplication!\n",
        "#Working Alternative 1\n",
        "\n",
        "C = A.dot(B)\n",
        "print(\"A*B =\", C)\n",
        "#Working Alternative 2\n",
        "\n",
        "C = np.dot(A,B)\n",
        "print(\"A*B =\", C)\n",
        "#Working Alternative 3\n",
        "\n",
        "C = np.mat(A) * np.mat(B)\n",
        "print(\"A*B =\", C)\n",
        "#Working Alternative 4\n",
        "\n",
        "C = np.matmul(A,B)\n",
        "print(\"A*B =\", C)"
      ],
      "metadata": {
        "colab": {
          "base_uri": "https://localhost:8080/"
        },
        "id": "pE2ycTWMOknm",
        "outputId": "a7729646-8f14-4c39-8217-286e0d2bd001"
      },
      "execution_count": 5,
      "outputs": [
        {
          "output_type": "stream",
          "name": "stdout",
          "text": [
            "A+B = [[ 1  1]\n",
            " [ 1 -5]]\n",
            "A-B = [[-1  1]\n",
            " [-5 -1]]\n",
            "A*B = [[ 0  0]\n",
            " [-6  6]]\n",
            "A*B = [[  3  -2]\n",
            " [-11   6]]\n",
            "A*B = [[  3  -2]\n",
            " [-11   6]]\n",
            "A*B = [[  3  -2]\n",
            " [-11   6]]\n",
            "A*B = [[  3  -2]\n",
            " [-11   6]]\n"
          ]
        }
      ]
    },
    {
      "cell_type": "code",
      "source": [
        "import numpy as np\n",
        "A = np.array([[1, 5, 3], [4, 6, 6],[3, 8, 9]])\n",
        "B = np.array([[1, 5, 3, 4], [4, 5, 7, 8],[7, 8, 9, 3]])\n",
        "C = np.array([[1], [4],[3]])\n",
        "D = np.array([[1, 5, 3]])\n",
        "M = np.matmul(A,B)\n",
        "print(\"M=\", M)\n",
        "\n",
        "#M = np.matmul(B,A) # Not Working!\n",
        "\n",
        "M = np.matmul(A,C)\n",
        "print(\"M=\", M)\n",
        "\n",
        "#M = np.matmul(C,A) # Not Working!\n",
        "M = np.matmul(C,D)\n",
        "print(\"M=\", M)\n",
        "\n",
        "M = np.matmul(D,C)\n",
        "print(\"M=\", M)"
      ],
      "metadata": {
        "colab": {
          "base_uri": "https://localhost:8080/"
        },
        "id": "AjedmFalOoG1",
        "outputId": "5db9da3a-82ce-487f-f128-fed0664e90d0"
      },
      "execution_count": 6,
      "outputs": [
        {
          "output_type": "stream",
          "name": "stdout",
          "text": [
            "M= [[ 42  54  65  53]\n",
            " [ 70  98 108  82]\n",
            " [ 98 127 146 103]]\n",
            "M= [[30]\n",
            " [46]\n",
            " [62]]\n",
            "M= [[ 1  5  3]\n",
            " [ 4 20 12]\n",
            " [ 3 15  9]]\n",
            "M= [[30]]\n"
          ]
        }
      ]
    },
    {
      "cell_type": "code",
      "source": [
        "import numpy as np\n",
        "A = np.array([[1, 3, 7, 2], [5, 8, -9, 0],[6, -7, 11, 12]])\n",
        "print(\"A=\"); print(A)\n",
        "Atr = np.transpose(A)\n",
        "print(\"Transpose of A=\"); print(Atr)\n",
        "B = np.array([[1, 5], [4, 5],[3, 2],[7, 8]])\n",
        "print(\"B=\"); print(B)\n",
        "Btr = np.transpose(B)\n",
        "print(\"Transpose of B=\"); print(Btr)"
      ],
      "metadata": {
        "colab": {
          "base_uri": "https://localhost:8080/"
        },
        "id": "Fz192J1jOqhT",
        "outputId": "0f510e2f-bf44-497d-e99b-cbfebe28678a"
      },
      "execution_count": 7,
      "outputs": [
        {
          "output_type": "stream",
          "name": "stdout",
          "text": [
            "A=\n",
            "[[ 1  3  7  2]\n",
            " [ 5  8 -9  0]\n",
            " [ 6 -7 11 12]]\n",
            "Transpose of A=\n",
            "[[ 1  5  6]\n",
            " [ 3  8 -7]\n",
            " [ 7 -9 11]\n",
            " [ 2  0 12]]\n",
            "B=\n",
            "[[1 5]\n",
            " [4 5]\n",
            " [3 2]\n",
            " [7 8]]\n",
            "Transpose of B=\n",
            "[[1 4 3 7]\n",
            " [5 5 2 8]]\n"
          ]
        }
      ]
    },
    {
      "cell_type": "code",
      "source": [
        "import numpy as np\n",
        "import numpy.linalg as la\n",
        "A = np.array([[1, 2], [3, 4]])\n",
        "Adet = la.det(A)\n",
        "print(Adet)\n",
        "B = np.array([[-1, 3, 0],[2, 1, -5],[1, 4, -2]])\n",
        "Bdet = la.det(B)\n",
        "print(Bdet)"
      ],
      "metadata": {
        "colab": {
          "base_uri": "https://localhost:8080/"
        },
        "id": "9KCg0tHYOs31",
        "outputId": "59e9ee37-c9d7-412e-f78f-4b7547241e5f"
      },
      "execution_count": 8,
      "outputs": [
        {
          "output_type": "stream",
          "name": "stdout",
          "text": [
            "-2.0000000000000004\n",
            "-21.00000000000001\n"
          ]
        }
      ]
    },
    {
      "cell_type": "code",
      "source": [
        "import numpy as np\n",
        "import numpy.linalg as la\n",
        "A = np.array([[1, 2], \n",
        "[3, 4]])\n",
        "Ainv = la.inv(A)\n",
        "print(Adet)\n",
        "B = np.array([[-1, 3, 0],\n",
        "[2, 1, -5],\n",
        "[1, 4, -2]])\n",
        "Binv = la.inv(B)\n",
        "print(Binv)"
      ],
      "metadata": {
        "colab": {
          "base_uri": "https://localhost:8080/"
        },
        "id": "udu6YZzBOvN-",
        "outputId": "d8b2e2da-2d6a-467e-a5c5-612929e3cde1"
      },
      "execution_count": 9,
      "outputs": [
        {
          "output_type": "stream",
          "name": "stdout",
          "text": [
            "-2.0000000000000004\n",
            "[[-0.85714286 -0.28571429  0.71428571]\n",
            " [ 0.04761905 -0.0952381   0.23809524]\n",
            " [-0.33333333 -0.33333333  0.33333333]]\n"
          ]
        }
      ]
    },
    {
      "cell_type": "code",
      "source": [
        "import numpy as np\n",
        "import numpy.linalg as la\n",
        "A = np.array([[0, 1], [-2, -3]])\n",
        "Aeig, v = la.eig(A)\n",
        "print(Aeig)"
      ],
      "metadata": {
        "colab": {
          "base_uri": "https://localhost:8080/"
        },
        "id": "2Tl7Sok5Oxtq",
        "outputId": "bf7dc196-b34d-44d6-eee5-d264671a1902"
      },
      "execution_count": 10,
      "outputs": [
        {
          "output_type": "stream",
          "name": "stdout",
          "text": [
            "[-1. -2.]\n"
          ]
        }
      ]
    },
    {
      "cell_type": "code",
      "source": [
        "import numpy as np\n",
        "A = np.array([[0, 1], [-2, -3]])\n",
        "B = np.array([[1, 0], [3, -2]])\n",
        "C = np.array([[1, 1], [1, -5]])\n",
        "print(\"AB Not Equal BA\")\n",
        "L = np.matmul(A,B)\n",
        "print(\"L=\");print(L)\n",
        "R = np.matmul(B,A)\n",
        "print(\"R=\");print(R)\n",
        "print(\"A(BC) = (AB)C\")\n",
        "L = np.matmul(A,np.matmul(B,C))\n",
        "print(\"L=\");print(L)\n",
        "R = np.matmul(np.matmul(A,B),C)\n",
        "print(\"R=\");print(R)"
      ],
      "metadata": {
        "colab": {
          "base_uri": "https://localhost:8080/"
        },
        "id": "E2SOSIubO0ZY",
        "outputId": "a203ee6d-b757-43fb-e623-238fe88bb279"
      },
      "execution_count": 11,
      "outputs": [
        {
          "output_type": "stream",
          "name": "stdout",
          "text": [
            "AB Not Equal BA\n",
            "L=\n",
            "[[  3  -2]\n",
            " [-11   6]]\n",
            "R=\n",
            "[[0 1]\n",
            " [4 9]]\n",
            "A(BC) = (AB)C\n",
            "L=\n",
            "[[  1  13]\n",
            " [ -5 -41]]\n",
            "R=\n",
            "[[  1  13]\n",
            " [ -5 -41]]\n"
          ]
        }
      ]
    },
    {
      "cell_type": "code",
      "source": [
        "import numpy as np\n",
        "A = np.array([[0, 1], [-2, -3]])\n",
        "B = np.array([[1, 0], [3, -2]])\n",
        "C = np.array([[1, 1], [1, -5]])\n",
        "print(\"(A+B)C = AC + BC\")\n",
        "L = np.matmul(A+B,C)\n",
        "print(\"L=\");print(L)\n",
        "R = np.matmul(A,C) + np.matmul(B,C)\n",
        "print(\"R=\");print(R)\n",
        "print(\"AA^(-1) = A^(-1)A = I\")\n",
        "L = np.matmul(A, la.inv(A))\n",
        "print(\"L=\");print(L)\n",
        "R = np.matmul(la.inv(A),A)\n",
        "print(\"R=\");print(R)"
      ],
      "metadata": {
        "colab": {
          "base_uri": "https://localhost:8080/"
        },
        "id": "jBI8ZhQYO2lk",
        "outputId": "a80fe2c2-ab60-4f6f-d5b4-c9d3e26e44aa"
      },
      "execution_count": 12,
      "outputs": [
        {
          "output_type": "stream",
          "name": "stdout",
          "text": [
            "(A+B)C = AC + BC\n",
            "L=\n",
            "[[ 2 -4]\n",
            " [-4 26]]\n",
            "R=\n",
            "[[ 2 -4]\n",
            " [-4 26]]\n",
            "AA^(-1) = A^(-1)A = I\n",
            "L=\n",
            "[[1. 0.]\n",
            " [0. 1.]]\n",
            "R=\n",
            "[[1. 0.]\n",
            " [0. 1.]]\n"
          ]
        }
      ]
    },
    {
      "cell_type": "code",
      "source": [
        "import numpy as np\n",
        "import numpy.linalg as la\n",
        "A = np.array([[1, 2], [3, 4]])\n",
        "b = np.array([[5], [6]])\n",
        "Ainv = la.inv(A)\n",
        "x = Ainv.dot(b)\n",
        "print(x)"
      ],
      "metadata": {
        "colab": {
          "base_uri": "https://localhost:8080/"
        },
        "id": "oiKqp-C0O5Tq",
        "outputId": "1508a3d1-4e2e-4f7c-efb1-44f87c152356"
      },
      "execution_count": 13,
      "outputs": [
        {
          "output_type": "stream",
          "name": "stdout",
          "text": [
            "[[-4. ]\n",
            " [ 4.5]]\n"
          ]
        }
      ]
    },
    {
      "cell_type": "code",
      "source": [
        "import numpy as np\n",
        "A = np.array([[1, 2], [3, 4]])\n",
        "b = np.array([[5], [6]])\n",
        "x = np.linalg.solve(A, b)\n",
        "print(x)"
      ],
      "metadata": {
        "colab": {
          "base_uri": "https://localhost:8080/"
        },
        "id": "cpkc7Pz3O7mf",
        "outputId": "09baa010-089b-4992-c673-f5384c5f42fd"
      },
      "execution_count": 14,
      "outputs": [
        {
          "output_type": "stream",
          "name": "stdout",
          "text": [
            "[[-4. ]\n",
            " [ 4.5]]\n"
          ]
        }
      ]
    },
    {
      "cell_type": "code",
      "source": [
        "import numpy as np\n",
        "A = np.array([[1, 2], [3, 4],[7, 8]])\n",
        "b = np.array([[5],[6],[9]])\n",
        "x = np.linalg.lstsq(A, b, rcond=None)[0]\n",
        "print(x)"
      ],
      "metadata": {
        "id": "FjO3sBQGO927",
        "outputId": "8ba67726-adcb-4cfa-91d3-295e54def03e",
        "colab": {
          "base_uri": "https://localhost:8080/"
        }
      },
      "execution_count": 15,
      "outputs": [
        {
          "output_type": "stream",
          "name": "stdout",
          "text": [
            "[[-3.5       ]\n",
            " [ 4.17857143]]\n"
          ]
        }
      ]
    }
  ]
}